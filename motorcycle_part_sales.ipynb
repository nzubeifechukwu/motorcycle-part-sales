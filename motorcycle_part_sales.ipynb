{
 "cells": [
  {
   "cell_type": "markdown",
   "id": "3c0ecf56-232f-4005-89d5-883e542a9c89",
   "metadata": {},
   "source": [
    " # Analyzing Motorcycle Part Sales"
   ]
  },
  {
   "cell_type": "markdown",
   "id": "6e2ab06e-c0ff-4b38-a173-54865100a0da",
   "metadata": {},
   "source": [
    "A company that sells motorcycle parts operates three warehouses in an area, selling both retail and wholesale. They offer a variety of parts and accept credit cards, cash, and bank transfers as payment methods, and each payment type incurs a different fee.\n",
    "\n",
    "The board of directors wants to better understand wholesale revenue by product line, and how this varies month-to-month and across warehouses. They have given me access to their database, which contains a `sales` table.\n",
    "\n",
    "In this project, I analyze the sales data. Specifically, I calculate the net revenue for each product line, grouping results by month and warehouse. The results are filtered so that only `\"Wholesale\"` orders are included.\n",
    "\n",
    "The idea and dataset for this project come from [DataCamp](https://projects.datacamp.com/projects/1574)."
   ]
  },
  {
   "cell_type": "markdown",
   "id": "1e99bb17-d9a9-4426-987d-8848ce95c356",
   "metadata": {},
   "source": [
    "## The `sales` table"
   ]
  },
  {
   "cell_type": "markdown",
   "id": "49fa1aa1-4747-4a4b-8e5d-0ded5e439af0",
   "metadata": {},
   "source": [
    "| Column | Data type | Description | \n",
    "|:--------|-----------|:-------------| \n",
    "| `order_number` | `VARCHAR` | Unique order number. | \n",
    "| `date` | `DATE` | Date of the order, from June to August 2021. | \n",
    "| `warehouse` | `VARCHAR` | The warehouse that the order was made from&mdash; `North`, `Central`, or `West`. | \n",
    "| `client_type` | `VARCHAR` | Whether the order was `Retail` or `Wholesale`. | \n",
    "| `product_line` | `VARCHAR` | Type of product ordered. | \n",
    "| `quantity` | `INT` | Number of products ordered. |  \n",
    "| `unit_price` | `FLOAT` | Price per product (dollars). | \n",
    "| `total` | `FLOAT` | Total price of the order (dollars). | \n",
    "| `payment` | `VARCHAR` | Payment method&mdash;`Credit card`, `Transfer`, or `Cash`. | \n",
    "| `payment_fee` | `FLOAT` | Percentage of `total` charged as a result of the `payment` method. |"
   ]
  },
  {
   "cell_type": "markdown",
   "id": "ae638af8-b98b-4ef3-8f1e-fb0df69ec144",
   "metadata": {},
   "source": [
    "## Exploratory data analysis"
   ]
  },
  {
   "cell_type": "markdown",
   "id": "a792a036-5f79-49be-9534-26b47896209f",
   "metadata": {},
   "source": [
    "First, let's have an idea of our entire data."
   ]
  },
  {
   "cell_type": "code",
   "execution_count": 2,
   "id": "c6bd9ede-af82-41b5-8b40-a60770ff6fda",
   "metadata": {
    "customType": "sql",
    "dataFrameVariableName": "df",
    "executionCancelledAt": null,
    "executionTime": null,
    "lastExecutedAt": null,
    "lastExecutedByKernel": null,
    "lastScheduledRunId": null,
    "lastSuccessfullyExecutedCode": null,
    "outputsMetadata": {
     "0": {
      "height": 266,
      "type": "dataFrame"
     }
    },
    "sqlCellMode": "dataFrame",
    "sqlSource": {
     "integrationId": "89e17161-a224-4a8a-846b-0adc0fe7a4b1",
     "type": "integration"
    }
   },
   "outputs": [
    {
     "@datacamp/metadata": {
      "executedQuery": "SELECT *\nFROM\nsales\nLIMIT 5;",
      "executedQueryParameters": []
     },
     "data": {
      "application/com.datacamp.data-table.v2+json": {
       "table": {
        "data": {
         "client_type": [
          "Retail",
          "Retail",
          "Wholesale",
          "Wholesale",
          "Retail"
         ],
         "date": [
          "2021-06-01T00:00:00.000",
          "2021-06-01T00:00:00.000",
          "2021-06-01T00:00:00.000",
          "2021-06-01T00:00:00.000",
          "2021-06-01T00:00:00.000"
         ],
         "index": [
          0,
          1,
          2,
          3,
          4
         ],
         "order_number": [
          "N1",
          "N2",
          "N3",
          "N4",
          "N5"
         ],
         "payment": [
          "Cash",
          "Credit card",
          "Transfer",
          "Transfer",
          "Credit card"
         ],
         "payment_fee": [
          0,
          0.03,
          0.01,
          0.01,
          0.03
         ],
         "product_line": [
          "Braking system",
          "Suspension & traction",
          "Frame & body",
          "Suspension & traction",
          "Frame & body"
         ],
         "quantity": [
          9,
          8,
          16,
          40,
          6
         ],
         "total": [
          173.61,
          263.45,
          605.44,
          1494.8,
          272.61
         ],
         "unit_price": [
          19.29,
          32.93,
          37.84,
          37.37,
          45.44
         ],
         "warehouse": [
          "North",
          "North",
          "North",
          "North",
          "North"
         ]
        },
        "schema": {
         "fields": [
          {
           "name": "index",
           "type": "integer"
          },
          {
           "name": "order_number",
           "type": "string"
          },
          {
           "name": "date",
           "type": "datetime",
           "tz": "UTC"
          },
          {
           "name": "warehouse",
           "type": "string"
          },
          {
           "name": "client_type",
           "type": "string"
          },
          {
           "name": "product_line",
           "type": "string"
          },
          {
           "name": "quantity",
           "type": "integer"
          },
          {
           "name": "unit_price",
           "type": "number"
          },
          {
           "name": "total",
           "type": "number"
          },
          {
           "name": "payment",
           "type": "string"
          },
          {
           "name": "payment_fee",
           "type": "number"
          }
         ],
         "pandas_version": "1.4.0",
         "primaryKey": [
          "index"
         ]
        }
       },
       "total_rows": 5,
       "truncation_type": null
      },
      "text/html": [
       "<div>\n",
       "<style scoped>\n",
       "    .dataframe tbody tr th:only-of-type {\n",
       "        vertical-align: middle;\n",
       "    }\n",
       "\n",
       "    .dataframe tbody tr th {\n",
       "        vertical-align: top;\n",
       "    }\n",
       "\n",
       "    .dataframe thead th {\n",
       "        text-align: right;\n",
       "    }\n",
       "</style>\n",
       "<table border=\"1\" class=\"dataframe\">\n",
       "  <thead>\n",
       "    <tr style=\"text-align: right;\">\n",
       "      <th></th>\n",
       "      <th>order_number</th>\n",
       "      <th>date</th>\n",
       "      <th>warehouse</th>\n",
       "      <th>client_type</th>\n",
       "      <th>product_line</th>\n",
       "      <th>quantity</th>\n",
       "      <th>unit_price</th>\n",
       "      <th>total</th>\n",
       "      <th>payment</th>\n",
       "      <th>payment_fee</th>\n",
       "    </tr>\n",
       "  </thead>\n",
       "  <tbody>\n",
       "    <tr>\n",
       "      <th>0</th>\n",
       "      <td>N1</td>\n",
       "      <td>2021-06-01 00:00:00+00:00</td>\n",
       "      <td>North</td>\n",
       "      <td>Retail</td>\n",
       "      <td>Braking system</td>\n",
       "      <td>9</td>\n",
       "      <td>19.29</td>\n",
       "      <td>173.61</td>\n",
       "      <td>Cash</td>\n",
       "      <td>0.00</td>\n",
       "    </tr>\n",
       "    <tr>\n",
       "      <th>1</th>\n",
       "      <td>N2</td>\n",
       "      <td>2021-06-01 00:00:00+00:00</td>\n",
       "      <td>North</td>\n",
       "      <td>Retail</td>\n",
       "      <td>Suspension &amp; traction</td>\n",
       "      <td>8</td>\n",
       "      <td>32.93</td>\n",
       "      <td>263.45</td>\n",
       "      <td>Credit card</td>\n",
       "      <td>0.03</td>\n",
       "    </tr>\n",
       "    <tr>\n",
       "      <th>2</th>\n",
       "      <td>N3</td>\n",
       "      <td>2021-06-01 00:00:00+00:00</td>\n",
       "      <td>North</td>\n",
       "      <td>Wholesale</td>\n",
       "      <td>Frame &amp; body</td>\n",
       "      <td>16</td>\n",
       "      <td>37.84</td>\n",
       "      <td>605.44</td>\n",
       "      <td>Transfer</td>\n",
       "      <td>0.01</td>\n",
       "    </tr>\n",
       "    <tr>\n",
       "      <th>3</th>\n",
       "      <td>N4</td>\n",
       "      <td>2021-06-01 00:00:00+00:00</td>\n",
       "      <td>North</td>\n",
       "      <td>Wholesale</td>\n",
       "      <td>Suspension &amp; traction</td>\n",
       "      <td>40</td>\n",
       "      <td>37.37</td>\n",
       "      <td>1494.80</td>\n",
       "      <td>Transfer</td>\n",
       "      <td>0.01</td>\n",
       "    </tr>\n",
       "    <tr>\n",
       "      <th>4</th>\n",
       "      <td>N5</td>\n",
       "      <td>2021-06-01 00:00:00+00:00</td>\n",
       "      <td>North</td>\n",
       "      <td>Retail</td>\n",
       "      <td>Frame &amp; body</td>\n",
       "      <td>6</td>\n",
       "      <td>45.44</td>\n",
       "      <td>272.61</td>\n",
       "      <td>Credit card</td>\n",
       "      <td>0.03</td>\n",
       "    </tr>\n",
       "  </tbody>\n",
       "</table>\n",
       "</div>"
      ],
      "text/plain": [
       "  order_number                      date  ...      payment payment_fee\n",
       "0           N1 2021-06-01 00:00:00+00:00  ...         Cash        0.00\n",
       "1           N2 2021-06-01 00:00:00+00:00  ...  Credit card        0.03\n",
       "2           N3 2021-06-01 00:00:00+00:00  ...     Transfer        0.01\n",
       "3           N4 2021-06-01 00:00:00+00:00  ...     Transfer        0.01\n",
       "4           N5 2021-06-01 00:00:00+00:00  ...  Credit card        0.03\n",
       "\n",
       "[5 rows x 10 columns]"
      ]
     },
     "execution_count": 2,
     "metadata": {},
     "output_type": "execute_result"
    }
   ],
   "source": [
    "SELECT *\n",
    "FROM\n",
    "sales\n",
    "LIMIT 5;"
   ]
  },
  {
   "cell_type": "markdown",
   "id": "1bd88a84-7d12-4cbb-adbc-fd7e78fca96e",
   "metadata": {},
   "source": [
    "Let's see the unique `warehouse`s, `client_type`s and `product_line`s."
   ]
  },
  {
   "cell_type": "code",
   "execution_count": 3,
   "id": "95c14c09-0ec8-4aac-88d1-7362e48356b0",
   "metadata": {
    "customType": "sql",
    "dataFrameVariableName": "df1",
    "executionCancelledAt": null,
    "executionTime": null,
    "lastExecutedAt": null,
    "lastExecutedByKernel": null,
    "lastScheduledRunId": null,
    "lastSuccessfullyExecutedCode": null,
    "outputsMetadata": {
     "0": {
      "height": 166,
      "type": "dataFrame"
     }
    },
    "sqlCellMode": "dataFrame",
    "sqlSource": {
     "integrationId": "89e17161-a224-4a8a-846b-0adc0fe7a4b1",
     "type": "integration"
    }
   },
   "outputs": [
    {
     "@datacamp/metadata": {
      "executedQuery": "-- Unique `warehouse` values\nSELECT DISTINCT warehouse\nFROM sales;",
      "executedQueryParameters": []
     },
     "data": {
      "application/com.datacamp.data-table.v2+json": {
       "table": {
        "data": {
         "index": [
          0,
          1,
          2
         ],
         "warehouse": [
          "West",
          "North",
          "Central"
         ]
        },
        "schema": {
         "fields": [
          {
           "name": "index",
           "type": "integer"
          },
          {
           "name": "warehouse",
           "type": "string"
          }
         ],
         "pandas_version": "1.4.0",
         "primaryKey": [
          "index"
         ]
        }
       },
       "total_rows": 3,
       "truncation_type": null
      },
      "text/html": [
       "<div>\n",
       "<style scoped>\n",
       "    .dataframe tbody tr th:only-of-type {\n",
       "        vertical-align: middle;\n",
       "    }\n",
       "\n",
       "    .dataframe tbody tr th {\n",
       "        vertical-align: top;\n",
       "    }\n",
       "\n",
       "    .dataframe thead th {\n",
       "        text-align: right;\n",
       "    }\n",
       "</style>\n",
       "<table border=\"1\" class=\"dataframe\">\n",
       "  <thead>\n",
       "    <tr style=\"text-align: right;\">\n",
       "      <th></th>\n",
       "      <th>warehouse</th>\n",
       "    </tr>\n",
       "  </thead>\n",
       "  <tbody>\n",
       "    <tr>\n",
       "      <th>0</th>\n",
       "      <td>West</td>\n",
       "    </tr>\n",
       "    <tr>\n",
       "      <th>1</th>\n",
       "      <td>North</td>\n",
       "    </tr>\n",
       "    <tr>\n",
       "      <th>2</th>\n",
       "      <td>Central</td>\n",
       "    </tr>\n",
       "  </tbody>\n",
       "</table>\n",
       "</div>"
      ],
      "text/plain": [
       "  warehouse\n",
       "0      West\n",
       "1     North\n",
       "2   Central"
      ]
     },
     "execution_count": 3,
     "metadata": {},
     "output_type": "execute_result"
    }
   ],
   "source": [
    "-- Unique `warehouse` values\n",
    "SELECT DISTINCT warehouse\n",
    "FROM sales;"
   ]
  },
  {
   "cell_type": "markdown",
   "id": "0a7ac113-6dd0-4cce-bc52-870be1686208",
   "metadata": {},
   "source": [
    "The company has warehouses in the `West`, `North` and `Central` parts of the area."
   ]
  },
  {
   "cell_type": "code",
   "execution_count": 4,
   "id": "39edd293-4ce6-4235-9226-f6a7449af433",
   "metadata": {
    "customType": "sql",
    "dataFrameVariableName": "df2",
    "executionCancelledAt": null,
    "executionTime": null,
    "lastExecutedAt": null,
    "lastExecutedByKernel": null,
    "lastScheduledRunId": null,
    "lastSuccessfullyExecutedCode": null,
    "outputsMetadata": {
     "0": {
      "height": 138,
      "type": "dataFrame"
     }
    },
    "sqlCellMode": "dataFrame",
    "sqlSource": {
     "integrationId": "89e17161-a224-4a8a-846b-0adc0fe7a4b1",
     "type": "integration"
    }
   },
   "outputs": [
    {
     "@datacamp/metadata": {
      "executedQuery": "-- Unique `client_type` values\nSELECT DISTINCT client_type\nFROM sales;",
      "executedQueryParameters": []
     },
     "data": {
      "application/com.datacamp.data-table.v2+json": {
       "table": {
        "data": {
         "client_type": [
          "Wholesale",
          "Retail"
         ],
         "index": [
          0,
          1
         ]
        },
        "schema": {
         "fields": [
          {
           "name": "index",
           "type": "integer"
          },
          {
           "name": "client_type",
           "type": "string"
          }
         ],
         "pandas_version": "1.4.0",
         "primaryKey": [
          "index"
         ]
        }
       },
       "total_rows": 2,
       "truncation_type": null
      },
      "text/html": [
       "<div>\n",
       "<style scoped>\n",
       "    .dataframe tbody tr th:only-of-type {\n",
       "        vertical-align: middle;\n",
       "    }\n",
       "\n",
       "    .dataframe tbody tr th {\n",
       "        vertical-align: top;\n",
       "    }\n",
       "\n",
       "    .dataframe thead th {\n",
       "        text-align: right;\n",
       "    }\n",
       "</style>\n",
       "<table border=\"1\" class=\"dataframe\">\n",
       "  <thead>\n",
       "    <tr style=\"text-align: right;\">\n",
       "      <th></th>\n",
       "      <th>client_type</th>\n",
       "    </tr>\n",
       "  </thead>\n",
       "  <tbody>\n",
       "    <tr>\n",
       "      <th>0</th>\n",
       "      <td>Wholesale</td>\n",
       "    </tr>\n",
       "    <tr>\n",
       "      <th>1</th>\n",
       "      <td>Retail</td>\n",
       "    </tr>\n",
       "  </tbody>\n",
       "</table>\n",
       "</div>"
      ],
      "text/plain": [
       "  client_type\n",
       "0   Wholesale\n",
       "1      Retail"
      ]
     },
     "execution_count": 4,
     "metadata": {},
     "output_type": "execute_result"
    }
   ],
   "source": [
    "-- Unique `client_type` values\n",
    "SELECT DISTINCT client_type\n",
    "FROM sales;"
   ]
  },
  {
   "cell_type": "markdown",
   "id": "dcc72ce6-fad3-435c-97f8-493630317696",
   "metadata": {},
   "source": [
    "The company has `Wholesale` and `Retail` customers. For this analysis, the board of directors is only interested in the `Wholesale` revenues."
   ]
  },
  {
   "cell_type": "code",
   "execution_count": 5,
   "id": "bfc2b9e4-e3b1-4130-a9b9-a49db583d1cd",
   "metadata": {
    "customType": "sql",
    "dataFrameVariableName": "df3",
    "executionCancelledAt": null,
    "executionTime": null,
    "lastExecutedAt": null,
    "lastExecutedByKernel": null,
    "lastScheduledRunId": null,
    "lastSuccessfullyExecutedCode": null,
    "outputsMetadata": {
     "0": {
      "height": 250,
      "type": "dataFrame"
     }
    },
    "sqlCellMode": "dataFrame",
    "sqlSource": {
     "integrationId": "89e17161-a224-4a8a-846b-0adc0fe7a4b1",
     "type": "integration"
    }
   },
   "outputs": [
    {
     "@datacamp/metadata": {
      "executedQuery": "-- Unique `product_line` values\nSELECT DISTINCT product_line\nFROM sales;",
      "executedQueryParameters": []
     },
     "data": {
      "application/com.datacamp.data-table.v2+json": {
       "table": {
        "data": {
         "index": [
          0,
          1,
          2,
          3,
          4,
          5
         ],
         "product_line": [
          "Braking system",
          "Electrical system",
          "Suspension & traction",
          "Engine",
          "Miscellaneous",
          "Frame & body"
         ]
        },
        "schema": {
         "fields": [
          {
           "name": "index",
           "type": "integer"
          },
          {
           "name": "product_line",
           "type": "string"
          }
         ],
         "pandas_version": "1.4.0",
         "primaryKey": [
          "index"
         ]
        }
       },
       "total_rows": 6,
       "truncation_type": null
      },
      "text/html": [
       "<div>\n",
       "<style scoped>\n",
       "    .dataframe tbody tr th:only-of-type {\n",
       "        vertical-align: middle;\n",
       "    }\n",
       "\n",
       "    .dataframe tbody tr th {\n",
       "        vertical-align: top;\n",
       "    }\n",
       "\n",
       "    .dataframe thead th {\n",
       "        text-align: right;\n",
       "    }\n",
       "</style>\n",
       "<table border=\"1\" class=\"dataframe\">\n",
       "  <thead>\n",
       "    <tr style=\"text-align: right;\">\n",
       "      <th></th>\n",
       "      <th>product_line</th>\n",
       "    </tr>\n",
       "  </thead>\n",
       "  <tbody>\n",
       "    <tr>\n",
       "      <th>0</th>\n",
       "      <td>Braking system</td>\n",
       "    </tr>\n",
       "    <tr>\n",
       "      <th>1</th>\n",
       "      <td>Electrical system</td>\n",
       "    </tr>\n",
       "    <tr>\n",
       "      <th>2</th>\n",
       "      <td>Suspension &amp; traction</td>\n",
       "    </tr>\n",
       "    <tr>\n",
       "      <th>3</th>\n",
       "      <td>Engine</td>\n",
       "    </tr>\n",
       "    <tr>\n",
       "      <th>4</th>\n",
       "      <td>Miscellaneous</td>\n",
       "    </tr>\n",
       "    <tr>\n",
       "      <th>5</th>\n",
       "      <td>Frame &amp; body</td>\n",
       "    </tr>\n",
       "  </tbody>\n",
       "</table>\n",
       "</div>"
      ],
      "text/plain": [
       "            product_line\n",
       "0         Braking system\n",
       "1      Electrical system\n",
       "2  Suspension & traction\n",
       "3                 Engine\n",
       "4          Miscellaneous\n",
       "5           Frame & body"
      ]
     },
     "execution_count": 5,
     "metadata": {},
     "output_type": "execute_result"
    }
   ],
   "source": [
    "-- Unique `product_line` values\n",
    "SELECT DISTINCT product_line\n",
    "FROM sales;"
   ]
  },
  {
   "cell_type": "markdown",
   "id": "0fc3a2d0-9b30-447e-8ec9-da8e21239905",
   "metadata": {},
   "source": [
    "The company deals in a range of motorcycle parts."
   ]
  },
  {
   "cell_type": "markdown",
   "id": "090623a3-c68b-41f0-ab64-910b0dcefead",
   "metadata": {},
   "source": [
    "## Evaluate net wholesale revenue for each product, segregating by month and warehouse location"
   ]
  },
  {
   "cell_type": "markdown",
   "id": "9976b3c1-6797-478a-9666-7999b528fb91",
   "metadata": {},
   "source": [
    "The orders captured by the `sales` table range from June to August, 2021. Let's make sure of this by investigating the unique months in the `date` column."
   ]
  },
  {
   "cell_type": "code",
   "execution_count": 7,
   "id": "ccf16f59-77fb-47cf-8d07-d7f693d06cc6",
   "metadata": {
    "customType": "sql",
    "dataFrameVariableName": "df4",
    "executionCancelledAt": null,
    "executionTime": null,
    "lastExecutedAt": null,
    "lastExecutedByKernel": null,
    "lastScheduledRunId": null,
    "lastSuccessfullyExecutedCode": null,
    "outputsMetadata": {
     "0": {
      "height": 166,
      "type": "dataFrame"
     }
    },
    "sqlCellMode": "dataFrame",
    "sqlSource": {
     "integrationId": "89e17161-a224-4a8a-846b-0adc0fe7a4b1",
     "type": "integration"
    }
   },
   "outputs": [
    {
     "@datacamp/metadata": {
      "executedQuery": "-- Unique `client_type` values\nSELECT DISTINCT EXTRACT(month FROM date)\nFROM sales;",
      "executedQueryParameters": []
     },
     "data": {
      "application/com.datacamp.data-table.v2+json": {
       "table": {
        "data": {
         "date_part": [
          7,
          8,
          6
         ],
         "index": [
          0,
          1,
          2
         ]
        },
        "schema": {
         "fields": [
          {
           "name": "index",
           "type": "integer"
          },
          {
           "name": "date_part",
           "type": "integer"
          }
         ],
         "pandas_version": "1.4.0",
         "primaryKey": [
          "index"
         ]
        }
       },
       "total_rows": 3,
       "truncation_type": null
      },
      "text/html": [
       "<div>\n",
       "<style scoped>\n",
       "    .dataframe tbody tr th:only-of-type {\n",
       "        vertical-align: middle;\n",
       "    }\n",
       "\n",
       "    .dataframe tbody tr th {\n",
       "        vertical-align: top;\n",
       "    }\n",
       "\n",
       "    .dataframe thead th {\n",
       "        text-align: right;\n",
       "    }\n",
       "</style>\n",
       "<table border=\"1\" class=\"dataframe\">\n",
       "  <thead>\n",
       "    <tr style=\"text-align: right;\">\n",
       "      <th></th>\n",
       "      <th>date_part</th>\n",
       "    </tr>\n",
       "  </thead>\n",
       "  <tbody>\n",
       "    <tr>\n",
       "      <th>0</th>\n",
       "      <td>7</td>\n",
       "    </tr>\n",
       "    <tr>\n",
       "      <th>1</th>\n",
       "      <td>8</td>\n",
       "    </tr>\n",
       "    <tr>\n",
       "      <th>2</th>\n",
       "      <td>6</td>\n",
       "    </tr>\n",
       "  </tbody>\n",
       "</table>\n",
       "</div>"
      ],
      "text/plain": [
       "   date_part\n",
       "0          7\n",
       "1          8\n",
       "2          6"
      ]
     },
     "execution_count": 7,
     "metadata": {},
     "output_type": "execute_result"
    }
   ],
   "source": [
    "-- Unique `client_type` values\n",
    "SELECT DISTINCT EXTRACT(month FROM date)\n",
    "FROM sales;"
   ]
  },
  {
   "cell_type": "markdown",
   "id": "75737d4f-a5ec-4434-91ff-99946f7219e2",
   "metadata": {},
   "source": [
    "Note that `6` is for 'June', `7` is for 'July' and `8` is for 'August'. We'll use a `CASE` statement to replace these figures with the months (in words) they represent."
   ]
  },
  {
   "cell_type": "code",
   "execution_count": 8,
   "id": "793efeab-8860-47c0-a1c6-c6c69de84575",
   "metadata": {
    "customType": "sql",
    "dataFrameVariableName": "df5",
    "executionCancelledAt": null,
    "executionTime": null,
    "lastExecutedAt": null,
    "lastExecutedByKernel": null,
    "lastScheduledRunId": null,
    "lastSuccessfullyExecutedCode": null,
    "outputsMetadata": {
     "0": {
      "height": 543,
      "type": "dataFrame"
     }
    },
    "sqlCellMode": "dataFrame",
    "sqlSource": {
     "integrationId": "89e17161-a224-4a8a-846b-0adc0fe7a4b1",
     "type": "integration"
    }
   },
   "outputs": [
    {
     "@datacamp/metadata": {
      "executedQuery": "SELECT product_line,\n\tCASE\n\t\tWHEN EXTRACT(month from date) = 6 THEN 'June'\n\t\tWHEN EXTRACT(month from date) = 7 THEN 'July'\n\t\tELSE 'August'\n\tEND AS month,\n\twarehouse,\n\tSUM(total - payment_fee) AS net_revenue\nFROM sales\nWHERE client_type = 'Wholesale'\nGROUP BY product_line, month, warehouse\nORDER BY product_line, month, net_revenue DESC;",
      "executedQueryParameters": []
     },
     "data": {
      "application/com.datacamp.data-table.v2+json": {
       "table": {
        "data": {
         "index": [
          0,
          1,
          2,
          3,
          4,
          5,
          6,
          7,
          8,
          9,
          10,
          11,
          12,
          13,
          14,
          15,
          16,
          17,
          18,
          19,
          20,
          21,
          22,
          23,
          24,
          25,
          26,
          27,
          28,
          29,
          30,
          31,
          32,
          33,
          34,
          35,
          36,
          37,
          38,
          39,
          40,
          41,
          42,
          43,
          44,
          45,
          46,
          47
         ],
         "month": [
          "August",
          "August",
          "August",
          "July",
          "July",
          "July",
          "June",
          "June",
          "June",
          "August",
          "August",
          "August",
          "July",
          "July",
          "July",
          "June",
          "June",
          "August",
          "August",
          "July",
          "July",
          "June",
          "August",
          "August",
          "August",
          "July",
          "July",
          "June",
          "June",
          "June",
          "August",
          "August",
          "August",
          "July",
          "July",
          "July",
          "June",
          "June",
          "June",
          "August",
          "August",
          "August",
          "July",
          "July",
          "July",
          "June",
          "June",
          "June"
         ],
         "net_revenue": [
          3039.41,
          2500.67,
          1770.84,
          3778.65,
          3060.93,
          2594.44,
          3684.89,
          1487.77,
          1212.75,
          4721.12,
          3126.43,
          1241.84,
          5577.62,
          1710.13,
          449.46,
          2904.93,
          2022.5,
          9528.71,
          2324.19,
          1827.03,
          1007.14,
          6548.85,
          8657.99,
          7898.89,
          829.69,
          6154.61,
          3135.13,
          5111.34,
          4910.12,
          2779.74,
          1841.4,
          1739.76,
          813.43,
          3118.44,
          2404.65,
          1156.8,
          2280.97,
          1878.07,
          513.99,
          5416.7,
          4923.69,
          1080.79,
          6456.72,
          3714.28,
          2939.32,
          8065.74,
          3325,
          2372.52
         ],
         "product_line": [
          "Braking system",
          "Braking system",
          "Braking system",
          "Braking system",
          "Braking system",
          "Braking system",
          "Braking system",
          "Braking system",
          "Braking system",
          "Electrical system",
          "Electrical system",
          "Electrical system",
          "Electrical system",
          "Electrical system",
          "Electrical system",
          "Electrical system",
          "Electrical system",
          "Engine",
          "Engine",
          "Engine",
          "Engine",
          "Engine",
          "Frame & body",
          "Frame & body",
          "Frame & body",
          "Frame & body",
          "Frame & body",
          "Frame & body",
          "Frame & body",
          "Frame & body",
          "Miscellaneous",
          "Miscellaneous",
          "Miscellaneous",
          "Miscellaneous",
          "Miscellaneous",
          "Miscellaneous",
          "Miscellaneous",
          "Miscellaneous",
          "Miscellaneous",
          "Suspension & traction",
          "Suspension & traction",
          "Suspension & traction",
          "Suspension & traction",
          "Suspension & traction",
          "Suspension & traction",
          "Suspension & traction",
          "Suspension & traction",
          "Suspension & traction"
         ],
         "warehouse": [
          "Central",
          "West",
          "North",
          "Central",
          "West",
          "North",
          "Central",
          "North",
          "West",
          "North",
          "Central",
          "West",
          "Central",
          "North",
          "West",
          "Central",
          "North",
          "Central",
          "North",
          "Central",
          "North",
          "Central",
          "Central",
          "North",
          "West",
          "North",
          "Central",
          "Central",
          "North",
          "West",
          "North",
          "Central",
          "West",
          "Central",
          "North",
          "West",
          "West",
          "Central",
          "North",
          "Central",
          "North",
          "West",
          "Central",
          "North",
          "West",
          "North",
          "Central",
          "West"
         ]
        },
        "schema": {
         "fields": [
          {
           "name": "index",
           "type": "integer"
          },
          {
           "name": "product_line",
           "type": "string"
          },
          {
           "name": "month",
           "type": "string"
          },
          {
           "name": "warehouse",
           "type": "string"
          },
          {
           "name": "net_revenue",
           "type": "number"
          }
         ],
         "pandas_version": "1.4.0",
         "primaryKey": [
          "index"
         ]
        }
       },
       "total_rows": 48,
       "truncation_type": null
      },
      "text/html": [
       "<div>\n",
       "<style scoped>\n",
       "    .dataframe tbody tr th:only-of-type {\n",
       "        vertical-align: middle;\n",
       "    }\n",
       "\n",
       "    .dataframe tbody tr th {\n",
       "        vertical-align: top;\n",
       "    }\n",
       "\n",
       "    .dataframe thead th {\n",
       "        text-align: right;\n",
       "    }\n",
       "</style>\n",
       "<table border=\"1\" class=\"dataframe\">\n",
       "  <thead>\n",
       "    <tr style=\"text-align: right;\">\n",
       "      <th></th>\n",
       "      <th>product_line</th>\n",
       "      <th>month</th>\n",
       "      <th>warehouse</th>\n",
       "      <th>net_revenue</th>\n",
       "    </tr>\n",
       "  </thead>\n",
       "  <tbody>\n",
       "    <tr>\n",
       "      <th>0</th>\n",
       "      <td>Braking system</td>\n",
       "      <td>August</td>\n",
       "      <td>Central</td>\n",
       "      <td>3039.41</td>\n",
       "    </tr>\n",
       "    <tr>\n",
       "      <th>1</th>\n",
       "      <td>Braking system</td>\n",
       "      <td>August</td>\n",
       "      <td>West</td>\n",
       "      <td>2500.67</td>\n",
       "    </tr>\n",
       "    <tr>\n",
       "      <th>2</th>\n",
       "      <td>Braking system</td>\n",
       "      <td>August</td>\n",
       "      <td>North</td>\n",
       "      <td>1770.84</td>\n",
       "    </tr>\n",
       "    <tr>\n",
       "      <th>3</th>\n",
       "      <td>Braking system</td>\n",
       "      <td>July</td>\n",
       "      <td>Central</td>\n",
       "      <td>3778.65</td>\n",
       "    </tr>\n",
       "    <tr>\n",
       "      <th>4</th>\n",
       "      <td>Braking system</td>\n",
       "      <td>July</td>\n",
       "      <td>West</td>\n",
       "      <td>3060.93</td>\n",
       "    </tr>\n",
       "    <tr>\n",
       "      <th>5</th>\n",
       "      <td>Braking system</td>\n",
       "      <td>July</td>\n",
       "      <td>North</td>\n",
       "      <td>2594.44</td>\n",
       "    </tr>\n",
       "    <tr>\n",
       "      <th>6</th>\n",
       "      <td>Braking system</td>\n",
       "      <td>June</td>\n",
       "      <td>Central</td>\n",
       "      <td>3684.89</td>\n",
       "    </tr>\n",
       "    <tr>\n",
       "      <th>7</th>\n",
       "      <td>Braking system</td>\n",
       "      <td>June</td>\n",
       "      <td>North</td>\n",
       "      <td>1487.77</td>\n",
       "    </tr>\n",
       "    <tr>\n",
       "      <th>8</th>\n",
       "      <td>Braking system</td>\n",
       "      <td>June</td>\n",
       "      <td>West</td>\n",
       "      <td>1212.75</td>\n",
       "    </tr>\n",
       "    <tr>\n",
       "      <th>9</th>\n",
       "      <td>Electrical system</td>\n",
       "      <td>August</td>\n",
       "      <td>North</td>\n",
       "      <td>4721.12</td>\n",
       "    </tr>\n",
       "    <tr>\n",
       "      <th>10</th>\n",
       "      <td>Electrical system</td>\n",
       "      <td>August</td>\n",
       "      <td>Central</td>\n",
       "      <td>3126.43</td>\n",
       "    </tr>\n",
       "    <tr>\n",
       "      <th>11</th>\n",
       "      <td>Electrical system</td>\n",
       "      <td>August</td>\n",
       "      <td>West</td>\n",
       "      <td>1241.84</td>\n",
       "    </tr>\n",
       "    <tr>\n",
       "      <th>12</th>\n",
       "      <td>Electrical system</td>\n",
       "      <td>July</td>\n",
       "      <td>Central</td>\n",
       "      <td>5577.62</td>\n",
       "    </tr>\n",
       "    <tr>\n",
       "      <th>13</th>\n",
       "      <td>Electrical system</td>\n",
       "      <td>July</td>\n",
       "      <td>North</td>\n",
       "      <td>1710.13</td>\n",
       "    </tr>\n",
       "    <tr>\n",
       "      <th>14</th>\n",
       "      <td>Electrical system</td>\n",
       "      <td>July</td>\n",
       "      <td>West</td>\n",
       "      <td>449.46</td>\n",
       "    </tr>\n",
       "    <tr>\n",
       "      <th>15</th>\n",
       "      <td>Electrical system</td>\n",
       "      <td>June</td>\n",
       "      <td>Central</td>\n",
       "      <td>2904.93</td>\n",
       "    </tr>\n",
       "    <tr>\n",
       "      <th>16</th>\n",
       "      <td>Electrical system</td>\n",
       "      <td>June</td>\n",
       "      <td>North</td>\n",
       "      <td>2022.50</td>\n",
       "    </tr>\n",
       "    <tr>\n",
       "      <th>17</th>\n",
       "      <td>Engine</td>\n",
       "      <td>August</td>\n",
       "      <td>Central</td>\n",
       "      <td>9528.71</td>\n",
       "    </tr>\n",
       "    <tr>\n",
       "      <th>18</th>\n",
       "      <td>Engine</td>\n",
       "      <td>August</td>\n",
       "      <td>North</td>\n",
       "      <td>2324.19</td>\n",
       "    </tr>\n",
       "    <tr>\n",
       "      <th>19</th>\n",
       "      <td>Engine</td>\n",
       "      <td>July</td>\n",
       "      <td>Central</td>\n",
       "      <td>1827.03</td>\n",
       "    </tr>\n",
       "    <tr>\n",
       "      <th>20</th>\n",
       "      <td>Engine</td>\n",
       "      <td>July</td>\n",
       "      <td>North</td>\n",
       "      <td>1007.14</td>\n",
       "    </tr>\n",
       "    <tr>\n",
       "      <th>21</th>\n",
       "      <td>Engine</td>\n",
       "      <td>June</td>\n",
       "      <td>Central</td>\n",
       "      <td>6548.85</td>\n",
       "    </tr>\n",
       "    <tr>\n",
       "      <th>22</th>\n",
       "      <td>Frame &amp; body</td>\n",
       "      <td>August</td>\n",
       "      <td>Central</td>\n",
       "      <td>8657.99</td>\n",
       "    </tr>\n",
       "    <tr>\n",
       "      <th>23</th>\n",
       "      <td>Frame &amp; body</td>\n",
       "      <td>August</td>\n",
       "      <td>North</td>\n",
       "      <td>7898.89</td>\n",
       "    </tr>\n",
       "    <tr>\n",
       "      <th>24</th>\n",
       "      <td>Frame &amp; body</td>\n",
       "      <td>August</td>\n",
       "      <td>West</td>\n",
       "      <td>829.69</td>\n",
       "    </tr>\n",
       "    <tr>\n",
       "      <th>25</th>\n",
       "      <td>Frame &amp; body</td>\n",
       "      <td>July</td>\n",
       "      <td>North</td>\n",
       "      <td>6154.61</td>\n",
       "    </tr>\n",
       "    <tr>\n",
       "      <th>26</th>\n",
       "      <td>Frame &amp; body</td>\n",
       "      <td>July</td>\n",
       "      <td>Central</td>\n",
       "      <td>3135.13</td>\n",
       "    </tr>\n",
       "    <tr>\n",
       "      <th>27</th>\n",
       "      <td>Frame &amp; body</td>\n",
       "      <td>June</td>\n",
       "      <td>Central</td>\n",
       "      <td>5111.34</td>\n",
       "    </tr>\n",
       "    <tr>\n",
       "      <th>28</th>\n",
       "      <td>Frame &amp; body</td>\n",
       "      <td>June</td>\n",
       "      <td>North</td>\n",
       "      <td>4910.12</td>\n",
       "    </tr>\n",
       "    <tr>\n",
       "      <th>29</th>\n",
       "      <td>Frame &amp; body</td>\n",
       "      <td>June</td>\n",
       "      <td>West</td>\n",
       "      <td>2779.74</td>\n",
       "    </tr>\n",
       "    <tr>\n",
       "      <th>30</th>\n",
       "      <td>Miscellaneous</td>\n",
       "      <td>August</td>\n",
       "      <td>North</td>\n",
       "      <td>1841.40</td>\n",
       "    </tr>\n",
       "    <tr>\n",
       "      <th>31</th>\n",
       "      <td>Miscellaneous</td>\n",
       "      <td>August</td>\n",
       "      <td>Central</td>\n",
       "      <td>1739.76</td>\n",
       "    </tr>\n",
       "    <tr>\n",
       "      <th>32</th>\n",
       "      <td>Miscellaneous</td>\n",
       "      <td>August</td>\n",
       "      <td>West</td>\n",
       "      <td>813.43</td>\n",
       "    </tr>\n",
       "    <tr>\n",
       "      <th>33</th>\n",
       "      <td>Miscellaneous</td>\n",
       "      <td>July</td>\n",
       "      <td>Central</td>\n",
       "      <td>3118.44</td>\n",
       "    </tr>\n",
       "    <tr>\n",
       "      <th>34</th>\n",
       "      <td>Miscellaneous</td>\n",
       "      <td>July</td>\n",
       "      <td>North</td>\n",
       "      <td>2404.65</td>\n",
       "    </tr>\n",
       "    <tr>\n",
       "      <th>35</th>\n",
       "      <td>Miscellaneous</td>\n",
       "      <td>July</td>\n",
       "      <td>West</td>\n",
       "      <td>1156.80</td>\n",
       "    </tr>\n",
       "    <tr>\n",
       "      <th>36</th>\n",
       "      <td>Miscellaneous</td>\n",
       "      <td>June</td>\n",
       "      <td>West</td>\n",
       "      <td>2280.97</td>\n",
       "    </tr>\n",
       "    <tr>\n",
       "      <th>37</th>\n",
       "      <td>Miscellaneous</td>\n",
       "      <td>June</td>\n",
       "      <td>Central</td>\n",
       "      <td>1878.07</td>\n",
       "    </tr>\n",
       "    <tr>\n",
       "      <th>38</th>\n",
       "      <td>Miscellaneous</td>\n",
       "      <td>June</td>\n",
       "      <td>North</td>\n",
       "      <td>513.99</td>\n",
       "    </tr>\n",
       "    <tr>\n",
       "      <th>39</th>\n",
       "      <td>Suspension &amp; traction</td>\n",
       "      <td>August</td>\n",
       "      <td>Central</td>\n",
       "      <td>5416.70</td>\n",
       "    </tr>\n",
       "    <tr>\n",
       "      <th>40</th>\n",
       "      <td>Suspension &amp; traction</td>\n",
       "      <td>August</td>\n",
       "      <td>North</td>\n",
       "      <td>4923.69</td>\n",
       "    </tr>\n",
       "    <tr>\n",
       "      <th>41</th>\n",
       "      <td>Suspension &amp; traction</td>\n",
       "      <td>August</td>\n",
       "      <td>West</td>\n",
       "      <td>1080.79</td>\n",
       "    </tr>\n",
       "    <tr>\n",
       "      <th>42</th>\n",
       "      <td>Suspension &amp; traction</td>\n",
       "      <td>July</td>\n",
       "      <td>Central</td>\n",
       "      <td>6456.72</td>\n",
       "    </tr>\n",
       "    <tr>\n",
       "      <th>43</th>\n",
       "      <td>Suspension &amp; traction</td>\n",
       "      <td>July</td>\n",
       "      <td>North</td>\n",
       "      <td>3714.28</td>\n",
       "    </tr>\n",
       "    <tr>\n",
       "      <th>44</th>\n",
       "      <td>Suspension &amp; traction</td>\n",
       "      <td>July</td>\n",
       "      <td>West</td>\n",
       "      <td>2939.32</td>\n",
       "    </tr>\n",
       "    <tr>\n",
       "      <th>45</th>\n",
       "      <td>Suspension &amp; traction</td>\n",
       "      <td>June</td>\n",
       "      <td>North</td>\n",
       "      <td>8065.74</td>\n",
       "    </tr>\n",
       "    <tr>\n",
       "      <th>46</th>\n",
       "      <td>Suspension &amp; traction</td>\n",
       "      <td>June</td>\n",
       "      <td>Central</td>\n",
       "      <td>3325.00</td>\n",
       "    </tr>\n",
       "    <tr>\n",
       "      <th>47</th>\n",
       "      <td>Suspension &amp; traction</td>\n",
       "      <td>June</td>\n",
       "      <td>West</td>\n",
       "      <td>2372.52</td>\n",
       "    </tr>\n",
       "  </tbody>\n",
       "</table>\n",
       "</div>"
      ],
      "text/plain": [
       "             product_line   month warehouse  net_revenue\n",
       "0          Braking system  August   Central      3039.41\n",
       "1          Braking system  August      West      2500.67\n",
       "2          Braking system  August     North      1770.84\n",
       "3          Braking system    July   Central      3778.65\n",
       "4          Braking system    July      West      3060.93\n",
       "5          Braking system    July     North      2594.44\n",
       "6          Braking system    June   Central      3684.89\n",
       "7          Braking system    June     North      1487.77\n",
       "8          Braking system    June      West      1212.75\n",
       "9       Electrical system  August     North      4721.12\n",
       "10      Electrical system  August   Central      3126.43\n",
       "11      Electrical system  August      West      1241.84\n",
       "12      Electrical system    July   Central      5577.62\n",
       "13      Electrical system    July     North      1710.13\n",
       "14      Electrical system    July      West       449.46\n",
       "15      Electrical system    June   Central      2904.93\n",
       "16      Electrical system    June     North      2022.50\n",
       "17                 Engine  August   Central      9528.71\n",
       "18                 Engine  August     North      2324.19\n",
       "19                 Engine    July   Central      1827.03\n",
       "20                 Engine    July     North      1007.14\n",
       "21                 Engine    June   Central      6548.85\n",
       "22           Frame & body  August   Central      8657.99\n",
       "23           Frame & body  August     North      7898.89\n",
       "24           Frame & body  August      West       829.69\n",
       "25           Frame & body    July     North      6154.61\n",
       "26           Frame & body    July   Central      3135.13\n",
       "27           Frame & body    June   Central      5111.34\n",
       "28           Frame & body    June     North      4910.12\n",
       "29           Frame & body    June      West      2779.74\n",
       "30          Miscellaneous  August     North      1841.40\n",
       "31          Miscellaneous  August   Central      1739.76\n",
       "32          Miscellaneous  August      West       813.43\n",
       "33          Miscellaneous    July   Central      3118.44\n",
       "34          Miscellaneous    July     North      2404.65\n",
       "35          Miscellaneous    July      West      1156.80\n",
       "36          Miscellaneous    June      West      2280.97\n",
       "37          Miscellaneous    June   Central      1878.07\n",
       "38          Miscellaneous    June     North       513.99\n",
       "39  Suspension & traction  August   Central      5416.70\n",
       "40  Suspension & traction  August     North      4923.69\n",
       "41  Suspension & traction  August      West      1080.79\n",
       "42  Suspension & traction    July   Central      6456.72\n",
       "43  Suspension & traction    July     North      3714.28\n",
       "44  Suspension & traction    July      West      2939.32\n",
       "45  Suspension & traction    June     North      8065.74\n",
       "46  Suspension & traction    June   Central      3325.00\n",
       "47  Suspension & traction    June      West      2372.52"
      ]
     },
     "execution_count": 8,
     "metadata": {},
     "output_type": "execute_result"
    }
   ],
   "source": [
    "SELECT product_line,\n",
    "\tCASE\n",
    "\t\tWHEN EXTRACT(month from date) = 6 THEN 'June'\n",
    "\t\tWHEN EXTRACT(month from date) = 7 THEN 'July'\n",
    "\t\tELSE 'August'\n",
    "\tEND AS month,\n",
    "\twarehouse,\n",
    "\tSUM(total - payment_fee) AS net_revenue\n",
    "FROM sales\n",
    "WHERE client_type = 'Wholesale'\n",
    "GROUP BY product_line, month, warehouse\n",
    "ORDER BY product_line, month, net_revenue DESC;"
   ]
  }
 ],
 "metadata": {
  "editor": "DataLab",
  "kernelspec": {
   "display_name": "Python 3 (ipykernel)",
   "language": "python",
   "name": "python3"
  },
  "language_info": {
   "codemirror_mode": {
    "name": "ipython",
    "version": 3
   },
   "file_extension": ".py",
   "mimetype": "text/x-python",
   "name": "python",
   "nbconvert_exporter": "python",
   "pygments_lexer": "ipython3",
   "version": "3.12.4"
  }
 },
 "nbformat": 4,
 "nbformat_minor": 5
}
